{
 "cells": [
  {
   "cell_type": "code",
   "execution_count": 3,
   "metadata": {},
   "outputs": [],
   "source": [
    "import os\n",
    "import sys\n",
    "import time\n",
    "import numpy as np\n",
    "import imgaug "
   ]
  },
  {
   "cell_type": "code",
   "execution_count": 4,
   "metadata": {},
   "outputs": [],
   "source": [
    "from mrcnn.config import Config\n",
    "from mrcnn import model as modellib, utils\n",
    "\n",
    "from pycocotools.coco import COCO\n",
    "from pycocotools.cocoeval import COCOeval\n",
    "from pycocotools import mask as maskUtils\n",
    "from coco.coco import CocoDataset"
   ]
  },
  {
   "cell_type": "code",
   "execution_count": 5,
   "metadata": {},
   "outputs": [],
   "source": [
    "COCO_PRETRAINED_WEIGHTS_PATH = os.path.abspath(\"mask_rcnn_coco.h5\")\n",
    "DATASET_PATH = os.path.abspath(\"DATASETS/\")\n",
    "TRAIN_ANNOTATIONS_PATH = os.path.abspath(\"DATASETS/annotations/instances_train2017.json\")\n",
    "LOGS_PATH = os.path.abspath(\"LOGS\")"
   ]
  },
  {
   "cell_type": "code",
   "execution_count": 6,
   "metadata": {},
   "outputs": [],
   "source": [
    "class CocoConfig(Config):\n",
    "    \"\"\"Configuration for training on MS COCO.\n",
    "    Derives from the base Config class and overrides values specific\n",
    "    to the COCO dataset.\n",
    "    \"\"\"\n",
    "    # Give the configuration a recognizable name\n",
    "    NAME = \"coco\"\n",
    "    \n",
    "    IMAGES_PER_GPU = 1 #Only one image fits on my 6GB GTX1060. \n",
    "    #IMAGES_PER_GPU = 1 #version for Tesla P100\n",
    "    \n",
    "    NUM_CLASSES = 1 + 80  #80 COCO classes + BG class"
   ]
  },
  {
   "cell_type": "code",
   "execution_count": 7,
   "metadata": {},
   "outputs": [
    {
     "name": "stdout",
     "output_type": "stream",
     "text": [
      "loading annotations into memory...\n",
      "Done (t=14.10s)\n",
      "creating index...\n",
      "index created!\n"
     ]
    }
   ],
   "source": [
    "coco_train_annotatons = COCO(TRAIN_ANNOTATIONS_PATH)"
   ]
  },
  {
   "cell_type": "code",
   "execution_count": 9,
   "metadata": {},
   "outputs": [
    {
     "name": "stdout",
     "output_type": "stream",
     "text": [
      "loading annotations into memory...\n",
      "Done (t=12.73s)\n",
      "creating index...\n",
      "index created!\n",
      "loading annotations into memory...\n",
      "Done (t=0.37s)\n",
      "creating index...\n",
      "index created!\n"
     ]
    }
   ],
   "source": [
    "#Train dataset\n",
    "dataset_train = CocoDataset()\n",
    "dataset_train.load_coco(dataset_dir=DATASET_PATH, subset=\"train\", year=2017, class_ids=None,\n",
    "                        class_map=None, return_coco=False, auto_download=False)\n",
    "dataset_train.prepare()\n",
    "\n",
    "\n",
    "\n",
    "# Validation dataset\n",
    "dataset_val = CocoDataset()\n",
    "dataset_val.load_coco(dataset_dir=DATASET_PATH, subset=\"val\", year=2017, auto_download=False)\n",
    "dataset_val.prepare()"
   ]
  },
  {
   "cell_type": "code",
   "execution_count": null,
   "metadata": {},
   "outputs": [],
   "source": [
    "augmentation = imgaug.augmenters.Fliplr(0.5)\n",
    "\n",
    "config = CocoConfig()\n",
    "\n",
    "config.LEARNING_RATE = 0.001\n",
    "config.LEARNING_MOMENTUM = 0.9\n",
    "\n",
    "# Weight decay regularization\n",
    "config.WEIGHT_DECAY = 0.0001\n",
    "\n",
    "# Create model\n",
    "model = modellib.MaskRCNN(mode=\"training\", config=config,\n",
    "                          model_dir=LOGS_PATH)\n",
    "\n",
    "# Training - Stage 1\n",
    "print(\"Training network heads\")\n",
    "model.train(dataset_train, dataset_val,\n",
    "            learning_rate=config.LEARNING_RATE,\n",
    "            epochs=20,\n",
    "            layers='heads',\n",
    "            augmentation=augmentation)\n",
    "\n",
    "# Training - Stage 2\n",
    "# Finetune layers from ResNet stage 4 and up\n",
    "print(\"Fine tune Resnet stage 4 and up\")\n",
    "model.train(dataset_train, dataset_val,\n",
    "            learning_rate=config.LEARNING_RATE,\n",
    "            epochs=80,\n",
    "            layers='4+',\n",
    "            augmentation=augmentation)\n",
    "\n",
    "# Training - Stage 3\n",
    "# Fine tune all layers\n",
    "print(\"Fine tune all layers\")\n",
    "model.train(dataset_train, dataset_val,\n",
    "            learning_rate=config.LEARNING_RATE / 10,\n",
    "            epochs=20,\n",
    "            layers='all',\n",
    "            augmentation=augmentation)"
   ]
  }
 ],
 "metadata": {
  "kernelspec": {
   "display_name": "Python 3",
   "language": "python",
   "name": "python3"
  },
  "language_info": {
   "codemirror_mode": {
    "name": "ipython",
    "version": 3
   },
   "file_extension": ".py",
   "mimetype": "text/x-python",
   "name": "python",
   "nbconvert_exporter": "python",
   "pygments_lexer": "ipython3",
   "version": "3.6.8"
  }
 },
 "nbformat": 4,
 "nbformat_minor": 2
}
